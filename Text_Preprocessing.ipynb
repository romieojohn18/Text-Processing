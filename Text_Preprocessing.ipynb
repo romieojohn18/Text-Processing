{
  "nbformat": 4,
  "nbformat_minor": 0,
  "metadata": {
    "colab": {
      "name": "Text_Preprocessing.ipynb",
      "provenance": []
    },
    "kernelspec": {
      "name": "python3",
      "display_name": "Python 3"
    },
    "language_info": {
      "name": "python"
    }
  },
  "cells": [
    {
      "cell_type": "code",
      "metadata": {
        "id": "APoZYDskswBj"
      },
      "source": [
        "sentence = \"This text is used to demonstrate Text Preprocessing in NLP.\"\n",
        "sentence = sentence.lower()\n",
        "print(sentence)"
      ],
      "execution_count": null,
      "outputs": []
    },
    {
      "cell_type": "code",
      "metadata": {
        "colab": {
          "base_uri": "https://localhost:8080/"
        },
        "id": "3YLCHJmRtMjl",
        "outputId": "e3d842b7-f6a0-4e6d-e3d2-f790a26959c6"
      },
      "source": [
        "import nltk\n",
        "nltk.download('punkt')"
      ],
      "execution_count": 2,
      "outputs": [
        {
          "output_type": "stream",
          "name": "stdout",
          "text": [
            "[nltk_data] Downloading package punkt to /root/nltk_data...\n",
            "[nltk_data]   Unzipping tokenizers/punkt.zip.\n"
          ]
        },
        {
          "output_type": "execute_result",
          "data": {
            "text/plain": [
              "True"
            ]
          },
          "metadata": {},
          "execution_count": 2
        }
      ]
    },
    {
      "cell_type": "markdown",
      "metadata": {
        "id": "hKArL8brt8JD"
      },
      "source": [
        "Sentence Tokenize"
      ]
    },
    {
      "cell_type": "code",
      "metadata": {
        "colab": {
          "base_uri": "https://localhost:8080/"
        },
        "id": "UAlYT5yxtRgz",
        "outputId": "d270a878-3599-448d-b5f2-9577fd3d9de5"
      },
      "source": [
        "paragraph=\"Linguistics is the scientific study of language. It encompasses the analysis of every aspect of language, as well as the methods for studying and modeling them. The traditional areas of linguistic analysis include phonetics, phonology, morphology, syntax, semantics, and pragmatics.\"\n",
        "# Tokenize Sentences\n",
        "sentences = nltk.sent_tokenize(paragraph.lower())\n",
        "print (sentences)\n",
        "print (len(sentences))"
      ],
      "execution_count": 3,
      "outputs": [
        {
          "output_type": "stream",
          "name": "stdout",
          "text": [
            "['linguistics is the scientific study of language.', 'it encompasses the analysis of every aspect of language, as well as the methods for studying and modeling them.', 'the traditional areas of linguistic analysis include phonetics, phonology, morphology, syntax, semantics, and pragmatics.']\n",
            "3\n"
          ]
        }
      ]
    },
    {
      "cell_type": "markdown",
      "metadata": {
        "id": "_kVUFUqGuMC4"
      },
      "source": [
        "Word Tokenize"
      ]
    },
    {
      "cell_type": "code",
      "metadata": {
        "colab": {
          "base_uri": "https://localhost:8080/"
        },
        "id": "IjcKJY19tUqR",
        "outputId": "f76a0d52-0885-4b35-fab8-c4e9916c1272"
      },
      "source": [
        "# Tokenize Words\n",
        "words = nltk.word_tokenize(paragraph.lower())\n",
        "print (words)\n",
        "print (len(words))"
      ],
      "execution_count": 4,
      "outputs": [
        {
          "output_type": "stream",
          "name": "stdout",
          "text": [
            "['linguistics', 'is', 'the', 'scientific', 'study', 'of', 'language', '.', 'it', 'encompasses', 'the', 'analysis', 'of', 'every', 'aspect', 'of', 'language', ',', 'as', 'well', 'as', 'the', 'methods', 'for', 'studying', 'and', 'modeling', 'them', '.', 'the', 'traditional', 'areas', 'of', 'linguistic', 'analysis', 'include', 'phonetics', ',', 'phonology', ',', 'morphology', ',', 'syntax', ',', 'semantics', ',', 'and', 'pragmatics', '.']\n",
            "49\n"
          ]
        }
      ]
    },
    {
      "cell_type": "markdown",
      "metadata": {
        "id": "0w79vmN2ugRC"
      },
      "source": [
        "Punctuation Mark Removal"
      ]
    },
    {
      "cell_type": "code",
      "metadata": {
        "colab": {
          "base_uri": "https://localhost:8080/"
        },
        "id": "XZay7kuuuFfR",
        "outputId": "770c82c5-f6a3-4180-ccab-e470ce80606c"
      },
      "source": [
        "print (words)"
      ],
      "execution_count": 5,
      "outputs": [
        {
          "output_type": "stream",
          "name": "stdout",
          "text": [
            "['linguistics', 'is', 'the', 'scientific', 'study', 'of', 'language', '.', 'it', 'encompasses', 'the', 'analysis', 'of', 'every', 'aspect', 'of', 'language', ',', 'as', 'well', 'as', 'the', 'methods', 'for', 'studying', 'and', 'modeling', 'them', '.', 'the', 'traditional', 'areas', 'of', 'linguistic', 'analysis', 'include', 'phonetics', ',', 'phonology', ',', 'morphology', ',', 'syntax', ',', 'semantics', ',', 'and', 'pragmatics', '.']\n"
          ]
        }
      ]
    },
    {
      "cell_type": "code",
      "metadata": {
        "id": "Pqe7sEM5ulfi"
      },
      "source": [
        "new_words= [word for word in words if word.isalnum()]"
      ],
      "execution_count": 6,
      "outputs": []
    },
    {
      "cell_type": "markdown",
      "metadata": {
        "id": "WDjT7Ny2u78B"
      },
      "source": [
        "Stop Word Removal"
      ]
    },
    {
      "cell_type": "code",
      "metadata": {
        "colab": {
          "base_uri": "https://localhost:8080/"
        },
        "id": "-897TA8SutiP",
        "outputId": "f86981c0-fb76-4fc0-d8ae-9eb6c7be0bdb"
      },
      "source": [
        "from nltk.corpus import stopwords\n",
        "nltk.download('stopwords')"
      ],
      "execution_count": 7,
      "outputs": [
        {
          "output_type": "stream",
          "name": "stdout",
          "text": [
            "[nltk_data] Downloading package stopwords to /root/nltk_data...\n",
            "[nltk_data]   Unzipping corpora/stopwords.zip.\n"
          ]
        },
        {
          "output_type": "execute_result",
          "data": {
            "text/plain": [
              "True"
            ]
          },
          "metadata": {},
          "execution_count": 7
        }
      ]
    },
    {
      "cell_type": "code",
      "metadata": {
        "colab": {
          "base_uri": "https://localhost:8080/"
        },
        "id": "exACM5TEvGlD",
        "outputId": "5a2355a9-a323-425d-dd7e-2cd79a0c7c6e"
      },
      "source": [
        "print(stopwords.words(\"english\"))"
      ],
      "execution_count": 8,
      "outputs": [
        {
          "output_type": "stream",
          "name": "stdout",
          "text": [
            "['i', 'me', 'my', 'myself', 'we', 'our', 'ours', 'ourselves', 'you', \"you're\", \"you've\", \"you'll\", \"you'd\", 'your', 'yours', 'yourself', 'yourselves', 'he', 'him', 'his', 'himself', 'she', \"she's\", 'her', 'hers', 'herself', 'it', \"it's\", 'its', 'itself', 'they', 'them', 'their', 'theirs', 'themselves', 'what', 'which', 'who', 'whom', 'this', 'that', \"that'll\", 'these', 'those', 'am', 'is', 'are', 'was', 'were', 'be', 'been', 'being', 'have', 'has', 'had', 'having', 'do', 'does', 'did', 'doing', 'a', 'an', 'the', 'and', 'but', 'if', 'or', 'because', 'as', 'until', 'while', 'of', 'at', 'by', 'for', 'with', 'about', 'against', 'between', 'into', 'through', 'during', 'before', 'after', 'above', 'below', 'to', 'from', 'up', 'down', 'in', 'out', 'on', 'off', 'over', 'under', 'again', 'further', 'then', 'once', 'here', 'there', 'when', 'where', 'why', 'how', 'all', 'any', 'both', 'each', 'few', 'more', 'most', 'other', 'some', 'such', 'no', 'nor', 'not', 'only', 'own', 'same', 'so', 'than', 'too', 'very', 's', 't', 'can', 'will', 'just', 'don', \"don't\", 'should', \"should've\", 'now', 'd', 'll', 'm', 'o', 're', 've', 'y', 'ain', 'aren', \"aren't\", 'couldn', \"couldn't\", 'didn', \"didn't\", 'doesn', \"doesn't\", 'hadn', \"hadn't\", 'hasn', \"hasn't\", 'haven', \"haven't\", 'isn', \"isn't\", 'ma', 'mightn', \"mightn't\", 'mustn', \"mustn't\", 'needn', \"needn't\", 'shan', \"shan't\", 'shouldn', \"shouldn't\", 'wasn', \"wasn't\", 'weren', \"weren't\", 'won', \"won't\", 'wouldn', \"wouldn't\"]\n"
          ]
        }
      ]
    },
    {
      "cell_type": "code",
      "metadata": {
        "colab": {
          "base_uri": "https://localhost:8080/"
        },
        "id": "wE7LThLYvKIO",
        "outputId": "e283fa48-dfae-43bd-c11a-8774983fa989"
      },
      "source": [
        "WordSet = []\n",
        "for word in new_words:\n",
        "   if word not in set(stopwords.words(\"english\")):\n",
        "      WordSet.append(word)\n",
        "print(WordSet)"
      ],
      "execution_count": 9,
      "outputs": [
        {
          "output_type": "stream",
          "name": "stdout",
          "text": [
            "['linguistics', 'scientific', 'study', 'language', 'encompasses', 'analysis', 'every', 'aspect', 'language', 'well', 'methods', 'studying', 'modeling', 'traditional', 'areas', 'linguistic', 'analysis', 'include', 'phonetics', 'phonology', 'morphology', 'syntax', 'semantics', 'pragmatics']\n"
          ]
        }
      ]
    },
    {
      "cell_type": "code",
      "metadata": {
        "colab": {
          "base_uri": "https://localhost:8080/"
        },
        "id": "acxbzCuqvQaP",
        "outputId": "6889163a-b8aa-4f4b-d875-fdbafe9cc791"
      },
      "source": [
        "print(len(WordSet))"
      ],
      "execution_count": 10,
      "outputs": [
        {
          "output_type": "stream",
          "name": "stdout",
          "text": [
            "24\n"
          ]
        }
      ]
    },
    {
      "cell_type": "markdown",
      "metadata": {
        "id": "UwwKdyBdvoOE"
      },
      "source": [
        "Stemming"
      ]
    },
    {
      "cell_type": "code",
      "metadata": {
        "id": "6puiZEpevowj"
      },
      "source": [
        "from nltk.stem import PorterStemmer\n",
        "ps = PorterStemmer()"
      ],
      "execution_count": 11,
      "outputs": []
    },
    {
      "cell_type": "code",
      "metadata": {
        "colab": {
          "base_uri": "https://localhost:8080/"
        },
        "id": "FEU7L-t2vug1",
        "outputId": "e6ba4b4c-7d11-4341-8afa-ac54daf4c256"
      },
      "source": [
        "WordSetStem = []\n",
        "for word in WordSet:\n",
        "   WordSetStem.append(ps.stem(word))\n",
        "print(WordSetStem)"
      ],
      "execution_count": 12,
      "outputs": [
        {
          "output_type": "stream",
          "name": "stdout",
          "text": [
            "['linguist', 'scientif', 'studi', 'languag', 'encompass', 'analysi', 'everi', 'aspect', 'languag', 'well', 'method', 'studi', 'model', 'tradit', 'area', 'linguist', 'analysi', 'includ', 'phonet', 'phonolog', 'morpholog', 'syntax', 'semant', 'pragmat']\n"
          ]
        }
      ]
    },
    {
      "cell_type": "markdown",
      "metadata": {
        "id": "uNaCpxPwvyz2"
      },
      "source": [
        "Lemmatization"
      ]
    },
    {
      "cell_type": "code",
      "metadata": {
        "colab": {
          "base_uri": "https://localhost:8080/"
        },
        "id": "amPyKK8Ivzhn",
        "outputId": "4005ac44-44c5-40fd-f09d-2f0a0da13917"
      },
      "source": [
        "from nltk.stem import WordNetLemmatizer\n",
        "lm= WordNetLemmatizer()\n",
        "nltk.download('wordnet')"
      ],
      "execution_count": 13,
      "outputs": [
        {
          "output_type": "stream",
          "name": "stdout",
          "text": [
            "[nltk_data] Downloading package wordnet to /root/nltk_data...\n",
            "[nltk_data]   Unzipping corpora/wordnet.zip.\n"
          ]
        },
        {
          "output_type": "execute_result",
          "data": {
            "text/plain": [
              "True"
            ]
          },
          "metadata": {},
          "execution_count": 13
        }
      ]
    },
    {
      "cell_type": "code",
      "metadata": {
        "colab": {
          "base_uri": "https://localhost:8080/"
        },
        "id": "i49pq-mfv3zw",
        "outputId": "b682e528-8cf0-4d7a-bc41-42c8d09e9fa0"
      },
      "source": [
        "WordSetLem = []\n",
        "for word in WordSet:\n",
        "   WordSetLem.append(lm.lemmatize(word))\n",
        "print(WordSetLem)"
      ],
      "execution_count": 14,
      "outputs": [
        {
          "output_type": "stream",
          "name": "stdout",
          "text": [
            "['linguistics', 'scientific', 'study', 'language', 'encompasses', 'analysis', 'every', 'aspect', 'language', 'well', 'method', 'studying', 'modeling', 'traditional', 'area', 'linguistic', 'analysis', 'include', 'phonetics', 'phonology', 'morphology', 'syntax', 'semantics', 'pragmatic']\n"
          ]
        }
      ]
    },
    {
      "cell_type": "code",
      "metadata": {
        "colab": {
          "base_uri": "https://localhost:8080/"
        },
        "id": "18DzcbNbv60D",
        "outputId": "0f1c7fab-30a9-4270-9d52-0cff1061c833"
      },
      "source": [
        "test = []\n",
        "for word in [\"changing\", \"dancing\",\"is\", \"was\"]:\n",
        "   test.append(lm.lemmatize(word, pos=\"n\"))\n",
        "print(test)"
      ],
      "execution_count": 15,
      "outputs": [
        {
          "output_type": "stream",
          "name": "stdout",
          "text": [
            "['changing', 'dancing', 'is', 'wa']\n"
          ]
        }
      ]
    }
  ]
}